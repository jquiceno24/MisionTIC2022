{
 "cells": [
  {
   "cell_type": "code",
   "execution_count": null,
   "metadata": {},
   "outputs": [],
   "source": [
    "import matplotlib.pyplot as plt"
   ]
  },
  {
   "cell_type": "markdown",
   "metadata": {},
   "source": [
    "# Grafico usando listas"
   ]
  },
  {
   "cell_type": "code",
   "execution_count": null,
   "metadata": {},
   "outputs": [],
   "source": [
    "import matplotlib.pyplot as plt\n",
    "x1=[2,5,6,14]\n",
    "y1= [11,22,33,44]\n",
    "\n",
    "x2=[2,5,6,15]\n",
    "y2=[4,12,18,45]"
   ]
  },
  {
   "cell_type": "code",
   "execution_count": null,
   "metadata": {},
   "outputs": [],
   "source": [
    "#Graficar 2 lineas en la misma grid\n",
    "plt.plot(x1,y1, color=\"blue\", linewidth = 3, label = 'Linea 1')\n",
    "plt.plot(x2,y2, color=\"green\", linewidth = 3, label = 'Linea 2')\n",
    "\n",
    "plt.title('Dos Graficas juntas')\n",
    "plt.xlabel('Eje X')\n",
    "plt.ylabel('Eje Y')\n",
    "plt.legend()\n",
    "plt.grid()\n",
    "plt.show()"
   ]
  },
  {
   "cell_type": "code",
   "execution_count": null,
   "metadata": {},
   "outputs": [],
   "source": [
    "#Grafico de barras. Cuando coinciden la misma X, las apila\n",
    "plt.bar(x1,y1, color=\"blue\", linewidth = 3, label = 'Barra 1')\n",
    "plt.bar(x2,y2, color=\"green\", linewidth = 3, label = 'Barra 2')\n",
    "\n",
    "plt.title('Dos Barras juntas')\n",
    "plt.xlabel('Eje X')\n",
    "plt.ylabel('Eje Y')\n",
    "plt.legend()\n",
    "plt.grid()\n",
    "plt.show()"
   ]
  },
  {
   "cell_type": "code",
   "execution_count": null,
   "metadata": {},
   "outputs": [],
   "source": [
    "#Histogramas\n",
    "Datos = [20,22,21,20,23,25,28,40,22,23,22,15,16,18,18,19,21,22,24,4,12,17,17,22,30,]\n",
    "Rangobin=[0,10,20,30,40]"
   ]
  },
  {
   "cell_type": "code",
   "execution_count": null,
   "metadata": {},
   "outputs": [],
   "source": [
    "plt.hist(Datos, Rangobin, histtype='bar',rwidth=0.8, color='lightgreen')\n",
    "\n",
    "plt.title('Histograma')\n",
    "plt.xlabel('Eje X')\n",
    "plt.ylabel('Eje Y')\n",
    "plt.grid()  #la grid no es necesaria (lineas horizontales y verticales)\n",
    "plt.show()\n"
   ]
  },
  {
   "cell_type": "code",
   "execution_count": null,
   "metadata": {},
   "outputs": [],
   "source": [
    "import matplotlib.pyplot as plot\n",
    "\n",
    "edades = [12, 15, 13, 12, 18, 20, 19, 20, 13, 12, 13, 17, 15, 16, 13, 14, 13, 17, 19]\n",
    "\n",
    "intervalos = range(min(edades), max(edades) + 2) #calculamos los extremos de los intervalos\n",
    "\n",
    "plot.hist(x=edades, bins=intervalos, color='#F2AB6D', rwidth=0.85)\n",
    "plot.title('Histograma de edades - matplotlib - codigopiton.com')\n",
    "plot.xlabel('Edades')\n",
    "plot.ylabel('Frecuencia')\n",
    "plot.xticks(intervalos)\n",
    "\n",
    "plot.show() #dibujamos el histograma"
   ]
  },
  {
   "cell_type": "code",
   "execution_count": null,
   "metadata": {},
   "outputs": [],
   "source": [
    "#Scatter\n",
    "import matplotlib.pyplot as plt\n",
    "x1=[2,5,6,14]\n",
    "y1= [11,22,33,44]\n",
    "\n",
    "plt.scatter(x1,y1, color=\"red\",  label = 'Puntos 1')\n",
    "\n",
    "plt.title('Dos Graficas juntas')\n",
    "plt.xlabel('Eje X')\n",
    "plt.ylabel('Eje Y')\n",
    "plt.legend()\n",
    "plt.grid()\n",
    "plt.show()"
   ]
  },
  {
   "cell_type": "code",
   "execution_count": null,
   "metadata": {},
   "outputs": [],
   "source": [
    "#Pie\n",
    "valores =[20,40,60,80]\n",
    "\n",
    "plt.pie(valores, labels=['Prekinder', 'kinder', 'primaria', 'secundaria'], colors=['red','purple','blue','orange']\n",
    "        , startangle=90,shadow=True, explode=(0.1,0,0,0),autopct='%1.1f%%')\n",
    "plt.title('Grafico circular')\n",
    "plt.show()"
   ]
  },
  {
   "cell_type": "markdown",
   "metadata": {},
   "source": [
    "# Grafico usando Dataframes a Series"
   ]
  },
  {
   "cell_type": "code",
   "execution_count": null,
   "metadata": {},
   "outputs": [],
   "source": [
    "# Carga dataset del Titanic\n",
    "import pandas as pd\n",
    "import matplotlib.pyplot as plt"
   ]
  },
  {
   "cell_type": "code",
   "execution_count": null,
   "metadata": {},
   "outputs": [],
   "source": [
    "df = pd.read_csv('titanic3.csv')"
   ]
  },
  {
   "cell_type": "code",
   "execution_count": null,
   "metadata": {},
   "outputs": [],
   "source": [
    "df.head()"
   ]
  },
  {
   "cell_type": "code",
   "execution_count": null,
   "metadata": {},
   "outputs": [],
   "source": [
    "print(type(df.survived.value_counts()))\n",
    "cantidades=df.survived.value_counts()\n",
    "cantidades"
   ]
  },
  {
   "cell_type": "code",
   "execution_count": null,
   "metadata": {},
   "outputs": [],
   "source": [
    "plt.figure(figsize=(30,20))  #tamaño en pulgadas\n",
    "\n",
    "\"\"\"\n",
    "Cree una subparcela en una ubicación específica dentro de una cuadrícula regular.\n",
    "shape(int, int)\n",
    "Número de filas y de columnas de la cuadrícula en las que colocar el eje.\n",
    "\n",
    "loc(int, int)\n",
    "Número de fila y número de columna de la ubicación del eje dentro de la cuadrícula.\n",
    "\"\"\"\n",
    "\n",
    "plt.subplot2grid((2,2),(0,0))\n",
    "plt.subplot2grid((2,2),(1,0))\n",
    "plt.subplot2grid((2,2),(0,1))\n",
    "plt.subplot2grid((2,2),(1,1))\n",
    "\n",
    "\n",
    "print(cantidades[0],cantidades[1])"
   ]
  },
  {
   "cell_type": "code",
   "execution_count": null,
   "metadata": {},
   "outputs": [],
   "source": [
    "#figure: Crea una figura nueva o active una figura existente.\n",
    "\n",
    "plt.figure(figsize=(30,20))  #tamaño en pulgadas\n",
    "\n",
    "plt.subplot2grid((2,2),(0,0))  #Grid de 2x2. primer grafico en la posicion (0,0)\n",
    "df.survived.value_counts().plot(kind='bar', alpha=1)  #seriexxxx.plot() #alpha: transparencia 0-1\n",
    "plt.title('Sobrevivieron - Cantidad')\n",
    "\n",
    "plt.subplot2grid((2,2),(0,1))\n",
    "df.survived.value_counts(normalize=True).plot(kind='bar', alpha=1) #Si es True, el objeto devuelto contendrá las frecuencias relativas de los valores únicos.\n",
    "plt.title('Sobrevivieron- Porcentaje')\n",
    "\n",
    "plt.subplot2grid((2,2),(1,0))\n",
    "df.survived.value_counts().plot(kind='bar', alpha=0.5)\n",
    "plt.title('Sobrevivieron - Cantidad')\n",
    "\n",
    "plt.subplot2grid((2,2),(1,1))\n",
    "plt.bar(cantidades[0],cantidades[1], color=\"blue\", alpha=0.5, linewidth = 3, label = 'Barra 1')\n",
    "\n",
    "plt.title('Dos Barras juntas')\n",
    "plt.xlabel('Eje X')\n",
    "plt.ylabel('Eje Y')\n",
    "plt.legend()\n",
    "plt.grid()\n"
   ]
  },
  {
   "cell_type": "code",
   "execution_count": null,
   "metadata": {},
   "outputs": [],
   "source": [
    "#Grafica de distribución tipo kde\n",
    "plt.figure(figsize=(30,20))\n",
    "\n",
    "for class_i in [1,2,3]:\n",
    "    df.age[df.pclass== class_i].plot(kind='kde')\n"
   ]
  },
  {
   "cell_type": "code",
   "execution_count": null,
   "metadata": {},
   "outputs": [],
   "source": [
    "df.plot(kind='scatter',x='age',y='pclass',color='red')\n",
    "plt.show()"
   ]
  },
  {
   "cell_type": "code",
   "execution_count": null,
   "metadata": {},
   "outputs": [],
   "source": [
    "df.age.hist(color='red')\n",
    "plt.show()"
   ]
  },
  {
   "cell_type": "markdown",
   "metadata": {},
   "source": [
    "# otro dataframe"
   ]
  },
  {
   "cell_type": "markdown",
   "metadata": {},
   "source": [
    "https://queirozf.com/entries/pandas-dataframe-plot-examples-with-matplotlib-pyplot"
   ]
  },
  {
   "cell_type": "code",
   "execution_count": null,
   "metadata": {},
   "outputs": [],
   "source": [
    "import pandas as pd\n",
    "\n",
    "df = pd.DataFrame({\n",
    "    'name':['john','mary','peter','jeff','bill','lisa','jose'],\n",
    "    'age':[23,78,22,19,45,33,20],\n",
    "    'gender':['M','F','M','M','M','F','M'],\n",
    "    'state':['california','dc','california','dc','california','texas','texas'],\n",
    "    'num_children':[2,0,0,3,2,1,4],\n",
    "    'num_pets':[5,1,0,5,2,2,3]\n",
    "})"
   ]
  },
  {
   "cell_type": "code",
   "execution_count": null,
   "metadata": {},
   "outputs": [],
   "source": [
    "df.head()"
   ]
  },
  {
   "cell_type": "code",
   "execution_count": null,
   "metadata": {},
   "outputs": [],
   "source": [
    "df.plot(kind='scatter',x='num_children',y='num_pets',color='red')\n",
    "plt.show()"
   ]
  },
  {
   "cell_type": "code",
   "execution_count": null,
   "metadata": {},
   "outputs": [],
   "source": [
    "df.plot(kind='bar',x='name',y='age', color='blue')"
   ]
  },
  {
   "cell_type": "code",
   "execution_count": null,
   "metadata": {},
   "outputs": [],
   "source": [
    "# gca stands for 'get current axis'\n",
    "ax = plt.gca() # gca significa 'obtener eje actual'\n",
    "\n",
    "df.plot(kind='line',x='name',y='num_children',ax=ax)\n",
    "df.plot(kind='line',x='name',y='num_pets', color='red', ax=ax)\n",
    "\n",
    "plt.show()"
   ]
  },
  {
   "cell_type": "markdown",
   "metadata": {},
   "source": [
    "# Groupby-Series"
   ]
  },
  {
   "cell_type": "code",
   "execution_count": null,
   "metadata": {},
   "outputs": [],
   "source": [
    "#Serie cuyo indice es el estado, y valor es la cantidad de unicos\n",
    "print(type(df.groupby('state')['name'].nunique())) #nunique, devuelve la serie con el número de observaciones distintas sobre el eje solicitado.\n",
    "df.groupby('state')['name'].nunique().plot(kind='bar')\n",
    "plt.show()"
   ]
  },
  {
   "cell_type": "code",
   "execution_count": null,
   "metadata": {},
   "outputs": [],
   "source": [
    "print(type(df['state']))\n",
    "print(type(df[['state','age']]))\n",
    "print(type(df.groupby('state')))\n",
    "print(type(df.groupby('state')['name']))\n",
    "print(type(df.groupby('state')['name'].nunique()))\n"
   ]
  },
  {
   "cell_type": "code",
   "execution_count": null,
   "metadata": {},
   "outputs": [],
   "source": [
    "df.groupby('state')['name'].nunique().plot(kind='bar') #Agrupar por estados\n",
    "plt.show()"
   ]
  },
  {
   "cell_type": "code",
   "execution_count": null,
   "metadata": {},
   "outputs": [],
   "source": [
    "# gca significa 'obtener eje actual'\n",
    "ax = plt.gca()\n",
    "\n",
    "df.plot(kind='line',x='name',y='num_children',ax=ax)\n",
    "df.plot(kind='line',x='name',y='num_pets', color='red', ax=ax)\n",
    "\n",
    "plt.show()"
   ]
  },
  {
   "cell_type": "code",
   "execution_count": null,
   "metadata": {},
   "outputs": [],
   "source": [
    "print(type(df.groupby(['state','gender']).size()))\n",
    "df.groupby(['state','gender']).size()"
   ]
  },
  {
   "cell_type": "code",
   "execution_count": null,
   "metadata": {},
   "outputs": [],
   "source": [
    "df"
   ]
  },
  {
   "cell_type": "code",
   "execution_count": null,
   "metadata": {},
   "outputs": [],
   "source": [
    "df.groupby(['state','gender']).size().plot(kind='bar')\n",
    "plt.show()"
   ]
  },
  {
   "cell_type": "code",
   "execution_count": null,
   "metadata": {},
   "outputs": [],
   "source": [
    "#Desapila, también conocido como pivote, Series con MultiIndex para producir DataFrame.\n",
    "df.groupby(['state','gender']).size().unstack().plot(kind='bar',stacked=True)\n",
    "plt.show()"
   ]
  },
  {
   "cell_type": "code",
   "execution_count": null,
   "metadata": {},
   "outputs": [],
   "source": [
    "df.groupby(['gender','state']).size().unstack().plot(kind='bar',stacked=True)\n",
    "plt.show()"
   ]
  },
  {
   "cell_type": "code",
   "execution_count": null,
   "metadata": {},
   "outputs": [],
   "source": [
    "#.ticket: ajuste de escala automático de los límites de vista en función de los límites de datos.\n",
    "import matplotlib.ticker as mtick\n",
    "df.groupby(['gender','state']).size().groupby(level=0).apply(\n",
    "    lambda x: 100 * x / x.sum()\n",
    ").unstack().plot(kind='bar',stacked=True)\n",
    "\n",
    "plt.gca().yaxis.set_major_formatter(mtick.PercentFormatter())\n",
    "plt.show()"
   ]
  },
  {
   "cell_type": "code",
   "execution_count": null,
   "metadata": {},
   "outputs": [],
   "source": [
    "df[['age']].plot(kind='hist',bins=[0,20,40,60,80,100],rwidth=0.8)\n",
    "plt.show()"
   ]
  },
  {
   "cell_type": "markdown",
   "metadata": {},
   "source": [
    "# Dataframe con campo tipo fecha"
   ]
  },
  {
   "cell_type": "code",
   "execution_count": null,
   "metadata": {},
   "outputs": [],
   "source": [
    "import pandas as pd\n",
    "import matplotlib.pyplot as plt\n",
    "\n",
    "#pyplot está diseñado principalmente para gráficos interactivos y casos simples de generación de gráficos programáticos\n",
    "\n",
    "# marco de datos de origen usando un formato de fecha arbitrario (m / d / a)\n",
    "df = pd.DataFrame({\n",
    "    'name':[\n",
    "        'john','lisa','peter','carl','linda','betty'\n",
    "    ],\n",
    "    'date_of_birth':[\n",
    "        '01/21/1988','03/10/1977','07/25/1999','01/22/1977','09/30/1968','09/15/1970'\n",
    "    ]\n",
    "})"
   ]
  },
  {
   "cell_type": "code",
   "execution_count": null,
   "metadata": {},
   "outputs": [],
   "source": [
    "#infer_datetime_format=True: inferir el formato de las cadenas de fecha y hora en las columnas\n",
    "df['date_of_birth'] = pd.to_datetime(df['date_of_birth'], infer_datetime_format=True)\n",
    "\n",
    "plt.clf() #Borra la figura actual\n",
    "df['date_of_birth'].map(lambda d: d.month).plot(kind='hist')\n",
    "plt.show()"
   ]
  },
  {
   "cell_type": "code",
   "execution_count": null,
   "metadata": {},
   "outputs": [],
   "source": [
    "import matplotlib.pyplot as plt\n",
    "from matplotlib.dates import date2num #Convertir objetos de fecha y hora en fechas de Matplotlib\n",
    "import datetime #Formato de fecha en analitica de datos\n",
    "\n",
    "x = [\n",
    "    datetime.datetime(2011, 1, 4, 0, 0), #Atributos: year, month, day, hour, minute, second, microsecond, tzinfo.\n",
    "    datetime.datetime(2011, 1, 5, 0, 0),\n",
    "    datetime.datetime(2011, 1, 6, 0, 0)\n",
    "]\n",
    "x = date2num(x)\n",
    "\n",
    "y = [4, 9, 2]\n",
    "z = [1, 2, 3]\n",
    "k = [11, 12, 13]\n",
    "\n",
    "ax = plt.subplot(111) #crea una figura y una cuadrícula de subtramas con una sola llamada\n",
    "ax.bar(x-0.2, y, width=0.2, color='b', align='center')\n",
    "ax.bar(x, z, width=0.2, color='g', align='center')\n",
    "ax.bar(x+0.2, k, width=0.2, color='r', align='center')\n",
    "ax.xaxis_date()\n",
    "\n",
    "plt.show()"
   ]
  },
  {
   "cell_type": "code",
   "execution_count": null,
   "metadata": {},
   "outputs": [],
   "source": [
    "df = pd.DataFrame({\n",
    "    'idcolision':[1,2,3],\n",
    "    'f1':['A','X','M'],\n",
    "    'f2':['B','A','N'],\n",
    "    'f3':['A','Z','A'],\n",
    "})"
   ]
  },
  {
   "cell_type": "code",
   "execution_count": null,
   "metadata": {},
   "outputs": [],
   "source": [
    "print(type(df))\n",
    "df"
   ]
  },
  {
   "cell_type": "code",
   "execution_count": null,
   "metadata": {},
   "outputs": [],
   "source": [
    " df2 = pd.DataFrame(columns=['idcolision', 'Factor'])"
   ]
  },
  {
   "cell_type": "code",
   "execution_count": null,
   "metadata": {},
   "outputs": [],
   "source": [
    "dfTemp = df[['idcolision','f1']]\n",
    "dfTemp= dfTemp.rename(columns = {'f1':'Factor'})\n",
    "df2 = dfTemp\n",
    "\n",
    "dfTemp = df[['idcolision','f2']]\n",
    "dfTemp= dfTemp.rename(columns = {'f2':'Factor'})\n",
    "df2= pd.concat([df2, dfTemp])\n",
    "\n",
    "dfTemp = df[['idcolision','f3']]\n",
    "dfTemp= dfTemp.rename(columns = {'f3':'Factor'})\n",
    "df2=pd.concat([df2, dfTemp]).reset_index()\n",
    "\n",
    "df2= df2.drop(columns=['index'])\n",
    "df2= df2.drop_duplicates()\n",
    "df2"
   ]
  },
  {
   "cell_type": "code",
   "execution_count": null,
   "metadata": {},
   "outputs": [],
   "source": [
    "df3 = pd.DataFrame({\"A\": [1, 2, 3], \"B\": [4, 5, 6]})\n",
    "df3.rename(columns={\"A\": \"a\", \"B\": \"c\"})"
   ]
  },
  {
   "cell_type": "code",
   "execution_count": null,
   "metadata": {},
   "outputs": [],
   "source": [
    "df2.append(df[['idcolision','f2']])"
   ]
  },
  {
   "cell_type": "code",
   "execution_count": null,
   "metadata": {},
   "outputs": [],
   "source": []
  }
 ],
 "metadata": {
  "kernelspec": {
   "name": "python385jvsc74a57bd0d38ba80676ae03a182d2c3a82f5be81b1e2f1fa26e9bd127b3d1c8c44ca42ac1",
   "display_name": "Python 3.8.5 64-bit ('base': conda)"
  },
  "language_info": {
   "codemirror_mode": {
    "name": "ipython",
    "version": 3
   },
   "file_extension": ".py",
   "mimetype": "text/x-python",
   "name": "python",
   "nbconvert_exporter": "python",
   "pygments_lexer": "ipython3",
   "version": "3.8.5"
  }
 },
 "nbformat": 4,
 "nbformat_minor": 2
}